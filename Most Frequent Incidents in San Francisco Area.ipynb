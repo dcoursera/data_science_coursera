{
 "cells": [
  {
   "cell_type": "markdown",
   "metadata": {},
   "source": [
    "## In this report, we plan to analyze the San Francisco real crime data and try to understand what incidents are most common as well as when most crimes are commited in the area! We will use _graphlab_ library from _Dato_ to analyze the proided data."
   ]
  },
  {
   "cell_type": "code",
   "execution_count": 1,
   "metadata": {
    "collapsed": false
   },
   "outputs": [
    {
     "name": "stderr",
     "output_type": "stream",
     "text": [
      "[WARNING] Unable to write current GraphLab Create license to /home/amangal7/.graphlab/config. Ensure that this user account has write permission to /home/amangal7/.graphlab/config to save the license for offline use.\n",
      "[INFO] \u001b[1;32m1452357756 : INFO:     (initialize_globals_from_environment:282): Setting configuration variable GRAPHLAB_FILEIO_ALTERNATIVE_SSL_CERT_FILE to /usr/local/lib/python2.7/dist-packages/certifi/cacert.pem\n",
      "\u001b[0m\u001b[1;32m1452357756 : INFO:     (initialize_globals_from_environment:282): Setting configuration variable GRAPHLAB_FILEIO_ALTERNATIVE_SSL_CERT_DIR to \n",
      "\u001b[0mThis non-commercial license of GraphLab Create is assigned to mangalaman93@gmail.com and will expire on December 31, 2016. For commercial licensing options, visit https://dato.com/buy/.\n",
      "\n",
      "[INFO] Start server at: ipc:///tmp/graphlab_server-3416 - Server binary: /usr/local/lib/python2.7/dist-packages/graphlab/unity_server - Server log: /tmp/graphlab_server_1452357756.log\n",
      "[INFO] GraphLab Server Version: 1.7.1\n",
      "[WARNING] Unable to create session in specified location: '/home/amangal7/.graphlab/artifacts'. Using: '/var/tmp/graphlab-amangal7/3416/tmp_session_18d65794-8b4a-4bc6-9db3-71ef7d416523'\n"
     ]
    }
   ],
   "source": [
    "import graphlab"
   ]
  },
  {
   "cell_type": "code",
   "execution_count": 2,
   "metadata": {
    "collapsed": false
   },
   "outputs": [
    {
     "name": "stdout",
     "output_type": "stream",
     "text": [
      "PROGRESS: Finished parsing file /home/amangal7/Documents/Ipython Notebooks/sanfrancisco_incidents_summer_2014.csv\n",
      "PROGRESS: Parsing completed. Parsed 100 lines in 0.380032 secs.\n",
      "------------------------------------------------------\n",
      "Inferred types from first line of file as \n",
      "column_type_hints=[int,str,str,str,str,str,str,str,str,float,float,str,int]\n",
      "If parsing fails due to incorrect types, you can correct\n",
      "the inferred type list above and pass it to read_csv in\n",
      "the column_type_hints argument\n",
      "------------------------------------------------------\n",
      "PROGRESS: Finished parsing file /home/amangal7/Documents/Ipython Notebooks/sanfrancisco_incidents_summer_2014.csv\n",
      "PROGRESS: Parsing completed. Parsed 28993 lines in 0.278279 secs.\n"
     ]
    }
   ],
   "source": [
    "sf = graphlab.SFrame('sanfrancisco_incidents_summer_2014.csv')\n",
    "graphlab.canvas.set_target('ipynb')"
   ]
  },
  {
   "cell_type": "markdown",
   "metadata": {},
   "source": [
    "## Let's plot a histogram of crimes per hour to understand the available data"
   ]
  },
  {
   "cell_type": "code",
   "execution_count": 3,
   "metadata": {
    "collapsed": false
   },
   "outputs": [
    {
     "data": {
      "application/javascript": [
       "$(\"head\").append($(\"<link/>\").attr({\n",
       "  rel:  \"stylesheet\",\n",
       "  type: \"text/css\",\n",
       "  href: \"//cdnjs.cloudflare.com/ajax/libs/font-awesome/4.1.0/css/font-awesome.min.css\"\n",
       "}));\n",
       "$(\"head\").append($(\"<link/>\").attr({\n",
       "  rel:  \"stylesheet\",\n",
       "  type: \"text/css\",\n",
       "  href: \"//dato.com/files/canvas/1.7.1/css/canvas.css\"\n",
       "}));\n",
       "\n",
       "            (function(){\n",
       "\n",
       "                var e = null;\n",
       "                if (typeof element == 'undefined') {\n",
       "                    var scripts = document.getElementsByTagName('script');\n",
       "                    var thisScriptTag = scripts[scripts.length-1];\n",
       "                    var parentDiv = thisScriptTag.parentNode;\n",
       "                    e = document.createElement('div');\n",
       "                    parentDiv.appendChild(e);\n",
       "                } else {\n",
       "                    e = element[0];\n",
       "                }\n",
       "\n",
       "                if (typeof requirejs !== 'undefined') {\n",
       "                    // disable load timeout; ipython_app.js is large and can take a while to load.\n",
       "                    requirejs.config({waitSeconds: 0});\n",
       "                }\n",
       "\n",
       "                require(['//dato.com/files/canvas/1.7.1/js/ipython_app.js'], function(IPythonApp){\n",
       "                    var app = new IPythonApp();\n",
       "                    app.attachView('sframe','Plots', {\"selected_variable\": {\"name\": [\"sf\"], \"descriptives\": {\"rows\": 28993, \"columns\": 14}, \"view_component\": \"Plots\", \"view_file\": \"sframe\", \"view_params\": {\"y\": \"IncidntNum\", \"x\": \"Hour\", \"columns\": [\"IncidntNum\", \"Category\", \"Descript\", \"DayOfWeek\", \"Date\", \"Time\", \"PdDistrict\", \"Resolution\", \"Address\", \"X\", \"Y\", \"Location\", \"PdId\", \"Hour\"], \"view\": \"Bar Chart\"}, \"view_components\": [\"Summary\", \"Table\", \"Bar Chart\", \"BoxWhisker Plot\", \"Line Chart\", \"Scatter Plot\", \"Heat Map\", \"Plots\"], \"type\": \"SFrame\", \"columns\": [{\"dtype\": \"int\", \"name\": \"IncidntNum\"}, {\"dtype\": \"str\", \"name\": \"Category\"}, {\"dtype\": \"str\", \"name\": \"Descript\"}, {\"dtype\": \"str\", \"name\": \"DayOfWeek\"}, {\"dtype\": \"str\", \"name\": \"Date\"}, {\"dtype\": \"str\", \"name\": \"Time\"}, {\"dtype\": \"str\", \"name\": \"PdDistrict\"}, {\"dtype\": \"str\", \"name\": \"Resolution\"}, {\"dtype\": \"str\", \"name\": \"Address\"}, {\"dtype\": \"float\", \"name\": \"X\"}, {\"dtype\": \"float\", \"name\": \"Y\"}, {\"dtype\": \"str\", \"name\": \"Location\"}, {\"dtype\": \"int\", \"name\": \"PdId\"}, {\"dtype\": \"int\", \"name\": \"Hour\"}], \"column_identifiers\": [\"Category\", \"IncidntNum\", \"Time\", \"Hour\", \"DayOfWeek\", \"Descript\", \"PdDistrict\", \"Date\", \"Location\", \"Address\", \"Y\", \"X\", \"Resolution\", \"PdId\"]}, \"complete\": 1, \"ipython\": true, \"progress\": 1.0, \"data\": {\"grouped\": {\"0\": {\"count\": 1381, \"std\": 63912036.762348324, \"min\": 10284385, \"max\": 990367398, \"sum\": 202110077345, \"var\": 4084748443111763.5, \"mean\": 146350526.67994213}, \"1\": {\"count\": 821, \"std\": 2554213.713624811, \"min\": 120897230, \"max\": 149011203, \"sum\": 116262392703, \"var\": 6524007694869.048, \"mean\": 141610709.74786848}, \"2\": {\"count\": 654, \"std\": 2067322.1730428452, \"min\": 140455777, \"max\": 149011219, \"sum\": 92519321341, \"var\": 4273820967154.592, \"mean\": 141466852.20336396}, \"3\": {\"count\": 413, \"std\": 1862457.2587873086, \"min\": 140455830, \"max\": 150063934, \"sum\": 58354886197, \"var\": 3468747040809.536, \"mean\": 141295123.9636804}, \"4\": {\"count\": 245, \"std\": 1821959.6498497732, \"min\": 140439226, \"max\": 146180158, \"sum\": 34611300392, \"var\": 3319536965680.708, \"mean\": 141270613.84489796}, \"5\": {\"count\": 292, \"std\": 1759292.0694359606, \"min\": 140456004, \"max\": 146215523, \"sum\": 41237452793, \"var\": 3095108585580.265, \"mean\": 141224153.40068495}, \"6\": {\"count\": 386, \"std\": 1897649.3820616426, \"min\": 140458191, \"max\": 149010700, \"sum\": 54549058274, \"var\": 3601073177238.934, \"mean\": 141318803.81865284}, \"7\": {\"count\": 610, \"std\": 1925787.5399831887, \"min\": 140455943, \"max\": 146215448, \"sum\": 86234440451, \"var\": 3708657649154.5015, \"mean\": 141367935.16557378}, \"8\": {\"count\": 944, \"std\": 2007017.9651516837, \"min\": 140456010, \"max\": 150101556, \"sum\": 133499815210, \"var\": 4028121112441.605, \"mean\": 141419295.77330503}, \"9\": {\"count\": 1074, \"std\": 56956898.455363646, \"min\": 120152357, \"max\": 981469810, \"sum\": 156135600717, \"var\": 3244088281654606.0, \"mean\": 145377654.2988827}, \"10\": {\"count\": 1206, \"std\": 3174642.0292123198, \"min\": 100144409, \"max\": 156006685, \"sum\": 170501155224, \"var\": 10078352013641.316, \"mean\": 141377408.9751243}, \"11\": {\"count\": 1298, \"std\": 2041195.6443867292, \"min\": 140405829, \"max\": 149011582, \"sum\": 183634635219, \"var\": 4166479658663.3545, \"mean\": 141475065.65408313}, \"12\": {\"count\": 1779, \"std\": 2781861.2184606497, \"min\": 110117208, \"max\": 150119888, \"sum\": 251368889779, \"var\": 7738751838775.371, \"mean\": 141297858.22315907}, \"13\": {\"count\": 1372, \"std\": 2077808.9561773613, \"min\": 140064607, \"max\": 149013196, \"sum\": 194169292807, \"var\": 4317290058370.8555, \"mean\": 141522808.16836736}, \"14\": {\"count\": 1424, \"std\": 3988573.550702837, \"min\": 14056336, \"max\": 150111561, \"sum\": 201431446902, \"var\": 15908718969366.236, \"mean\": 141454667.7682584}, \"15\": {\"count\": 1614, \"std\": 2945960.871120444, \"min\": 100820897, \"max\": 156005659, \"sum\": 228279367288, \"var\": 8678685454172.727, \"mean\": 141437030.53779432}, \"16\": {\"count\": 1718, \"std\": 2134620.439113364, \"min\": 130714828, \"max\": 156024853, \"sum\": 243147149492, \"var\": 4556604419080.531, \"mean\": 141529190.62398142}, \"17\": {\"count\": 1952, \"std\": 17983880.586683776, \"min\": 130820908, \"max\": 930280211, \"sum\": 277270464106, \"var\": 323419960956101.6, \"mean\": 142044295.13627055}, \"18\": {\"count\": 1959, \"std\": 2558061.681123816, \"min\": 110899989, \"max\": 149011184, \"sum\": 278042369074, \"var\": 6543679564434.003, \"mean\": 141930765.22409397}, \"19\": {\"count\": 1744, \"std\": 2411219.1978629557, \"min\": 130148835, \"max\": 149010067, \"sum\": 247584851068, \"var\": 5813978020142.875, \"mean\": 141963790.74999988}, \"20\": {\"count\": 1674, \"std\": 2556238.065130231, \"min\": 120843960, \"max\": 156016446, \"sum\": 237675252533, \"var\": 6534353045620.747, \"mean\": 141980437.59438473}, \"21\": {\"count\": 1482, \"std\": 2379655.3411055934, \"min\": 140457513, \"max\": 146252644, \"sum\": 210364784181, \"var\": 5662759542452.378, \"mean\": 141946548.03036427}, \"22\": {\"count\": 1573, \"std\": 2274290.8933191407, \"min\": 140457563, \"max\": 149011225, \"sum\": 222981320621, \"var\": 5172399067434.374, \"mean\": 141755448.58296248}, \"23\": {\"count\": 1378, \"std\": 2383795.2471297467, \"min\": 140457814, \"max\": 150104572, \"sum\": 195541675963, \"var\": 5682479780238.37, \"mean\": 141902522.46952105}}, \"omitted\": 0}, \"columns\": [{\"dtype\": \"int\", \"name\": \"IncidntNum\"}, {\"dtype\": \"str\", \"name\": \"Category\"}, {\"dtype\": \"str\", \"name\": \"Descript\"}, {\"dtype\": \"str\", \"name\": \"DayOfWeek\"}, {\"dtype\": \"str\", \"name\": \"Date\"}, {\"dtype\": \"str\", \"name\": \"Time\"}, {\"dtype\": \"str\", \"name\": \"PdDistrict\"}, {\"dtype\": \"str\", \"name\": \"Resolution\"}, {\"dtype\": \"str\", \"name\": \"Address\"}, {\"dtype\": \"float\", \"name\": \"X\"}, {\"dtype\": \"float\", \"name\": \"Y\"}, {\"dtype\": \"str\", \"name\": \"Location\"}, {\"dtype\": \"int\", \"name\": \"PdId\"}, {\"dtype\": \"int\", \"name\": \"Hour\"}]}, e);\n",
       "                });\n",
       "            })();\n",
       "        "
      ]
     },
     "metadata": {},
     "output_type": "display_data"
    }
   ],
   "source": [
    "sf['Hour'] = sf.apply(lambda x: int(x['Time'].split(':')[0]))\n",
    "sf.show(view='Bar Chart', x='Hour')"
   ]
  },
  {
   "cell_type": "markdown",
   "metadata": {
    "collapsed": true
   },
   "source": [
    "## As we see in above graph that most crimes are commited in the evening. We will now divide the day into 6 intervals and see what interval of day has most crimes commited."
   ]
  },
  {
   "cell_type": "code",
   "execution_count": 4,
   "metadata": {
    "collapsed": true
   },
   "outputs": [],
   "source": [
    "# [0, 4) => Late Night\n",
    "# [4, 8) => Early Morning\n",
    "# [8, 12) => Morning\n",
    "# [12, 16) => Afternoon\n",
    "# [16, 20) => Evening\n",
    "# [20, 24) => Night\n",
    "TIME = ['Late Night', 'Early Morning', 'Morning', 'AfterNoon', 'Evening', 'Night']\n",
    "def transform_interval(time):\n",
    "    l = time.split(':')\n",
    "    mins = int(l[0])*60 + int(l[1])\n",
    "    index = mins/60.0/4.0\n",
    "    if index == 0.0:\n",
    "        index = 5\n",
    "    else:\n",
    "        index = int(index)\n",
    "    return TIME[index]"
   ]
  },
  {
   "cell_type": "code",
   "execution_count": 5,
   "metadata": {
    "collapsed": false,
    "scrolled": true
   },
   "outputs": [
    {
     "data": {
      "application/javascript": [
       "$(\"head\").append($(\"<link/>\").attr({\n",
       "  rel:  \"stylesheet\",\n",
       "  type: \"text/css\",\n",
       "  href: \"//cdnjs.cloudflare.com/ajax/libs/font-awesome/4.1.0/css/font-awesome.min.css\"\n",
       "}));\n",
       "$(\"head\").append($(\"<link/>\").attr({\n",
       "  rel:  \"stylesheet\",\n",
       "  type: \"text/css\",\n",
       "  href: \"//dato.com/files/canvas/1.7.1/css/canvas.css\"\n",
       "}));\n",
       "\n",
       "            (function(){\n",
       "\n",
       "                var e = null;\n",
       "                if (typeof element == 'undefined') {\n",
       "                    var scripts = document.getElementsByTagName('script');\n",
       "                    var thisScriptTag = scripts[scripts.length-1];\n",
       "                    var parentDiv = thisScriptTag.parentNode;\n",
       "                    e = document.createElement('div');\n",
       "                    parentDiv.appendChild(e);\n",
       "                } else {\n",
       "                    e = element[0];\n",
       "                }\n",
       "\n",
       "                if (typeof requirejs !== 'undefined') {\n",
       "                    // disable load timeout; ipython_app.js is large and can take a while to load.\n",
       "                    requirejs.config({waitSeconds: 0});\n",
       "                }\n",
       "\n",
       "                require(['//dato.com/files/canvas/1.7.1/js/ipython_app.js'], function(IPythonApp){\n",
       "                    var app = new IPythonApp();\n",
       "                    app.attachView('sframe','Plots', {\"selected_variable\": {\"name\": [\"sf\"], \"descriptives\": {\"rows\": 28993, \"columns\": 15}, \"view_component\": \"Plots\", \"view_file\": \"sframe\", \"view_params\": {\"y\": \"IncidntNum\", \"x\": \"TimeInt\", \"columns\": [\"IncidntNum\", \"Category\", \"Descript\", \"DayOfWeek\", \"Date\", \"Time\", \"PdDistrict\", \"Resolution\", \"Address\", \"X\", \"Y\", \"Location\", \"PdId\", \"Hour\", \"TimeInt\"], \"view\": \"Bar Chart\"}, \"view_components\": [\"Summary\", \"Table\", \"Bar Chart\", \"BoxWhisker Plot\", \"Line Chart\", \"Scatter Plot\", \"Heat Map\", \"Plots\"], \"type\": \"SFrame\", \"columns\": [{\"dtype\": \"int\", \"name\": \"IncidntNum\"}, {\"dtype\": \"str\", \"name\": \"Category\"}, {\"dtype\": \"str\", \"name\": \"Descript\"}, {\"dtype\": \"str\", \"name\": \"DayOfWeek\"}, {\"dtype\": \"str\", \"name\": \"Date\"}, {\"dtype\": \"str\", \"name\": \"Time\"}, {\"dtype\": \"str\", \"name\": \"PdDistrict\"}, {\"dtype\": \"str\", \"name\": \"Resolution\"}, {\"dtype\": \"str\", \"name\": \"Address\"}, {\"dtype\": \"float\", \"name\": \"X\"}, {\"dtype\": \"float\", \"name\": \"Y\"}, {\"dtype\": \"str\", \"name\": \"Location\"}, {\"dtype\": \"int\", \"name\": \"PdId\"}, {\"dtype\": \"int\", \"name\": \"Hour\"}, {\"dtype\": \"str\", \"name\": \"TimeInt\"}], \"column_identifiers\": [\"Category\", \"IncidntNum\", \"Time\", \"Hour\", \"TimeInt\", \"DayOfWeek\", \"Descript\", \"PdDistrict\", \"Date\", \"Location\", \"Address\", \"Y\", \"X\", \"Resolution\", \"PdId\"]}, \"complete\": 1, \"ipython\": true, \"progress\": 1.0, \"data\": {\"grouped\": {\"Early Morning\": {\"count\": 1533, \"std\": 1872301.7101039367, \"min\": 140439226, \"max\": 149010700, \"sum\": 216632251910, \"var\": 3505513693658.1255, \"mean\": 141312623.55512077}, \"Evening\": {\"count\": 7373, \"std\": 9478350.47648449, \"min\": 110899989, \"max\": 930280211, \"sum\": 1046044833740, \"var\": 89839127755073.78, \"mean\": 141875062.21890676}, \"Late Night\": {\"count\": 3269, \"std\": 41645116.32711351, \"min\": 10284385, \"max\": 990367398, \"sum\": 469246677586, \"var\": 1734315713898816.2, \"mean\": 143544410.39645156}, \"Morning\": {\"count\": 4522, \"std\": 27893429.036046475, \"min\": 100144409, \"max\": 981469810, \"sum\": 643771206370, \"var\": 778043383388960.5, \"mean\": 142364265.00884542}, \"AfterNoon\": {\"count\": 6189, \"std\": 3018636.482982115, \"min\": 14056336, \"max\": 156005659, \"sum\": 875248996776, \"var\": 9112166216390.633, \"mean\": 141420099.65681052}, \"Night\": {\"count\": 6107, \"std\": 2405720.5320398533, \"min\": 120843960, \"max\": 156016446, \"sum\": 866563033298, \"var\": 5787491278278.115, \"mean\": 141896681.39806774}}, \"omitted\": 0}, \"columns\": [{\"dtype\": \"int\", \"name\": \"IncidntNum\"}, {\"dtype\": \"str\", \"name\": \"Category\"}, {\"dtype\": \"str\", \"name\": \"Descript\"}, {\"dtype\": \"str\", \"name\": \"DayOfWeek\"}, {\"dtype\": \"str\", \"name\": \"Date\"}, {\"dtype\": \"str\", \"name\": \"Time\"}, {\"dtype\": \"str\", \"name\": \"PdDistrict\"}, {\"dtype\": \"str\", \"name\": \"Resolution\"}, {\"dtype\": \"str\", \"name\": \"Address\"}, {\"dtype\": \"float\", \"name\": \"X\"}, {\"dtype\": \"float\", \"name\": \"Y\"}, {\"dtype\": \"str\", \"name\": \"Location\"}, {\"dtype\": \"int\", \"name\": \"PdId\"}, {\"dtype\": \"int\", \"name\": \"Hour\"}, {\"dtype\": \"str\", \"name\": \"TimeInt\"}]}, e);\n",
       "                });\n",
       "            })();\n",
       "        "
      ]
     },
     "metadata": {},
     "output_type": "display_data"
    }
   ],
   "source": [
    "sf['TimeInt'] = sf['Time'].apply(transform_interval)\n",
    "sf.show(view='Bar Chart', x='TimeInt')"
   ]
  },
  {
   "cell_type": "markdown",
   "metadata": {},
   "source": [
    "## As we can see that nearly 25% of the crimes are commited during 4PM to 8PM (Evening). We also see higher crimes during the afternoon (12PM to 4PM). Now let's further analyze the crime data during evening time (4PM - 8PM)"
   ]
  },
  {
   "cell_type": "code",
   "execution_count": 6,
   "metadata": {
    "collapsed": false
   },
   "outputs": [
    {
     "data": {
      "application/javascript": [
       "$(\"head\").append($(\"<link/>\").attr({\n",
       "  rel:  \"stylesheet\",\n",
       "  type: \"text/css\",\n",
       "  href: \"//cdnjs.cloudflare.com/ajax/libs/font-awesome/4.1.0/css/font-awesome.min.css\"\n",
       "}));\n",
       "$(\"head\").append($(\"<link/>\").attr({\n",
       "  rel:  \"stylesheet\",\n",
       "  type: \"text/css\",\n",
       "  href: \"//dato.com/files/canvas/1.7.1/css/canvas.css\"\n",
       "}));\n",
       "\n",
       "            (function(){\n",
       "\n",
       "                var e = null;\n",
       "                if (typeof element == 'undefined') {\n",
       "                    var scripts = document.getElementsByTagName('script');\n",
       "                    var thisScriptTag = scripts[scripts.length-1];\n",
       "                    var parentDiv = thisScriptTag.parentNode;\n",
       "                    e = document.createElement('div');\n",
       "                    parentDiv.appendChild(e);\n",
       "                } else {\n",
       "                    e = element[0];\n",
       "                }\n",
       "\n",
       "                if (typeof requirejs !== 'undefined') {\n",
       "                    // disable load timeout; ipython_app.js is large and can take a while to load.\n",
       "                    requirejs.config({waitSeconds: 0});\n",
       "                }\n",
       "\n",
       "                require(['//dato.com/files/canvas/1.7.1/js/ipython_app.js'], function(IPythonApp){\n",
       "                    var app = new IPythonApp();\n",
       "                    app.attachView('sarray','Categorical', {\"ipython\": true, \"sketch\": {\"complete\": true, \"numeric\": false, \"num_unique\": 30, \"num_undefined\": 0, \"progress\": 1.0, \"frequent_items\": {\"KIDNAPPING\": {\"frequency\": 21, \"value\": \"KIDNAPPING\"}, \"WEAPON LAWS\": {\"frequency\": 94, \"value\": \"WEAPON LAWS\"}, \"SECONDARY CODES\": {\"frequency\": 102, \"value\": \"SECONDARY CODES\"}, \"WARRANTS\": {\"frequency\": 487, \"value\": \"WARRANTS\"}, \"PROSTITUTION\": {\"frequency\": 26, \"value\": \"PROSTITUTION\"}, \"EMBEZZLEMENT\": {\"frequency\": 2, \"value\": \"EMBEZZLEMENT\"}, \"FRAUD\": {\"frequency\": 50, \"value\": \"FRAUD\"}, \"DRIVING UNDER THE INFLUENCE\": {\"frequency\": 18, \"value\": \"DRIVING UNDER THE ...\"}, \"ROBBERY\": {\"frequency\": 56, \"value\": \"ROBBERY\"}, \"SUSPICIOUS OCC\": {\"frequency\": 313, \"value\": \"SUSPICIOUS OCC\"}, \"FAMILY OFFENSES\": {\"frequency\": 1, \"value\": \"FAMILY OFFENSES\"}, \"FORGERY/COUNTERFEITING\": {\"frequency\": 5, \"value\": \"FORGERY/COUNTERFEI ...\"}, \"DRUNKENNESS\": {\"frequency\": 35, \"value\": \"DRUNKENNESS\"}, \"EXTORTION\": {\"frequency\": 1, \"value\": \"EXTORTION\"}, \"SUICIDE\": {\"frequency\": 1, \"value\": \"SUICIDE\"}, \"ARSON\": {\"frequency\": 10, \"value\": \"ARSON\"}, \"DRUG/NARCOTIC\": {\"frequency\": 381, \"value\": \"DRUG/NARCOTIC\"}, \"TRESPASS\": {\"frequency\": 56, \"value\": \"TRESPASS\"}, \"LOITERING\": {\"frequency\": 1, \"value\": \"LOITERING\"}, \"VANDALISM\": {\"frequency\": 2, \"value\": \"VANDALISM\"}, \"NON-CRIMINAL\": {\"frequency\": 709, \"value\": \"NON-CRIMINAL\"}, \"LIQUOR LAWS\": {\"frequency\": 8, \"value\": \"LIQUOR LAWS\"}, \"OTHER OFFENSES\": {\"frequency\": 842, \"value\": \"OTHER OFFENSES\"}, \"VEHICLE THEFT\": {\"frequency\": 557, \"value\": \"VEHICLE THEFT\"}, \"STOLEN PROPERTY\": {\"frequency\": 1, \"value\": \"STOLEN PROPERTY\"}, \"ASSAULT\": {\"frequency\": 605, \"value\": \"ASSAULT\"}, \"MISSING PERSON\": {\"frequency\": 240, \"value\": \"MISSING PERSON\"}, \"DISORDERLY CONDUCT\": {\"frequency\": 7, \"value\": \"DISORDERLY CONDUCT\"}, \"RUNAWAY\": {\"frequency\": 7, \"value\": \"RUNAWAY\"}, \"LARCENY/THEFT\": {\"frequency\": 2735, \"value\": \"LARCENY/THEFT\"}}, \"size\": 7373}, \"selected_variable\": {\"name\": [\"<SArray>\"], \"dtype\": \"str\", \"view_component\": \"Categorical\", \"view_file\": \"sarray\", \"descriptives\": {\"rows\": 7373}, \"type\": \"SArray\", \"view_components\": [\"Categorical\"]}, \"histogram\": null}, e);\n",
       "                });\n",
       "            })();\n",
       "        "
      ]
     },
     "metadata": {},
     "output_type": "display_data"
    }
   ],
   "source": [
    "sf_eve = sf[sf['TimeInt'] == 'Evening']\n",
    "sf_eve['Category'].show(view='Categorical')"
   ]
  },
  {
   "cell_type": "markdown",
   "metadata": {},
   "source": [
    "## As we can see in the above graph that, theft is commited the most during the Evening time. Now, let's analyze the robbery data."
   ]
  },
  {
   "cell_type": "code",
   "execution_count": 7,
   "metadata": {
    "collapsed": false
   },
   "outputs": [
    {
     "data": {
      "application/javascript": [
       "$(\"head\").append($(\"<link/>\").attr({\n",
       "  rel:  \"stylesheet\",\n",
       "  type: \"text/css\",\n",
       "  href: \"//cdnjs.cloudflare.com/ajax/libs/font-awesome/4.1.0/css/font-awesome.min.css\"\n",
       "}));\n",
       "$(\"head\").append($(\"<link/>\").attr({\n",
       "  rel:  \"stylesheet\",\n",
       "  type: \"text/css\",\n",
       "  href: \"//dato.com/files/canvas/1.7.1/css/canvas.css\"\n",
       "}));\n",
       "\n",
       "            (function(){\n",
       "\n",
       "                var e = null;\n",
       "                if (typeof element == 'undefined') {\n",
       "                    var scripts = document.getElementsByTagName('script');\n",
       "                    var thisScriptTag = scripts[scripts.length-1];\n",
       "                    var parentDiv = thisScriptTag.parentNode;\n",
       "                    e = document.createElement('div');\n",
       "                    parentDiv.appendChild(e);\n",
       "                } else {\n",
       "                    e = element[0];\n",
       "                }\n",
       "\n",
       "                if (typeof requirejs !== 'undefined') {\n",
       "                    // disable load timeout; ipython_app.js is large and can take a while to load.\n",
       "                    requirejs.config({waitSeconds: 0});\n",
       "                }\n",
       "\n",
       "                require(['//dato.com/files/canvas/1.7.1/js/ipython_app.js'], function(IPythonApp){\n",
       "                    var app = new IPythonApp();\n",
       "                    app.attachView('sframe','Plots', {\"selected_variable\": {\"name\": [\"sf_robery\"], \"descriptives\": {\"rows\": 308, \"columns\": 15}, \"view_component\": \"Plots\", \"view_file\": \"sframe\", \"view_params\": {\"y\": \"IncidntNum\", \"x\": \"TimeInt\", \"columns\": [\"IncidntNum\", \"Category\", \"Descript\", \"DayOfWeek\", \"Date\", \"Time\", \"PdDistrict\", \"Resolution\", \"Address\", \"X\", \"Y\", \"Location\", \"PdId\", \"Hour\", \"TimeInt\"], \"view\": \"Bar Chart\"}, \"view_components\": [\"Summary\", \"Table\", \"Bar Chart\", \"BoxWhisker Plot\", \"Line Chart\", \"Scatter Plot\", \"Heat Map\", \"Plots\"], \"type\": \"SFrame\", \"columns\": [{\"dtype\": \"int\", \"name\": \"IncidntNum\"}, {\"dtype\": \"str\", \"name\": \"Category\"}, {\"dtype\": \"str\", \"name\": \"Descript\"}, {\"dtype\": \"str\", \"name\": \"DayOfWeek\"}, {\"dtype\": \"str\", \"name\": \"Date\"}, {\"dtype\": \"str\", \"name\": \"Time\"}, {\"dtype\": \"str\", \"name\": \"PdDistrict\"}, {\"dtype\": \"str\", \"name\": \"Resolution\"}, {\"dtype\": \"str\", \"name\": \"Address\"}, {\"dtype\": \"float\", \"name\": \"X\"}, {\"dtype\": \"float\", \"name\": \"Y\"}, {\"dtype\": \"str\", \"name\": \"Location\"}, {\"dtype\": \"int\", \"name\": \"PdId\"}, {\"dtype\": \"int\", \"name\": \"Hour\"}, {\"dtype\": \"str\", \"name\": \"TimeInt\"}], \"column_identifiers\": [\"Category\", \"IncidntNum\", \"Time\", \"Hour\", \"TimeInt\", \"DayOfWeek\", \"Descript\", \"PdDistrict\", \"Date\", \"Location\", \"Address\", \"Y\", \"X\", \"Resolution\", \"PdId\"]}, \"complete\": 1, \"ipython\": true, \"progress\": 1.0, \"data\": {\"grouped\": {\"Early Morning\": {\"count\": 25, \"std\": 87482.75788854336, \"min\": 140467534, \"max\": 140749558, \"sum\": 3514739031, \"var\": 7653232927.785496, \"mean\": 140589561.24}, \"Evening\": {\"count\": 56, \"std\": 74979.20350326855, \"min\": 140460027, \"max\": 140733551, \"sum\": 7872787797, \"var\": 5621880957.984558, \"mean\": 140585496.37499997}, \"Late Night\": {\"count\": 67, \"std\": 78642.72773583839, \"min\": 140455880, \"max\": 140725984, \"sum\": 9418973652, \"var\": 6184678625.733205, \"mean\": 140581696.29850742}, \"Morning\": {\"count\": 35, \"std\": 1403318.0971326684, \"min\": 140458511, \"max\": 149011300, \"sum\": 4929296202, \"var\": 1969301681740.0535, \"mean\": 140837034.34285715}, \"AfterNoon\": {\"count\": 48, \"std\": 80662.20707390313, \"min\": 140456214, \"max\": 140726794, \"sum\": 6748318084, \"var\": 6506391650.033229, \"mean\": 140589960.0833333}, \"Night\": {\"count\": 77, \"std\": 87295.57895439137, \"min\": 140460732, \"max\": 140732973, \"sum\": 10825074694, \"var\": 7620518104.982377, \"mean\": 140585385.63636363}}, \"omitted\": 0}, \"columns\": [{\"dtype\": \"int\", \"name\": \"IncidntNum\"}, {\"dtype\": \"str\", \"name\": \"Category\"}, {\"dtype\": \"str\", \"name\": \"Descript\"}, {\"dtype\": \"str\", \"name\": \"DayOfWeek\"}, {\"dtype\": \"str\", \"name\": \"Date\"}, {\"dtype\": \"str\", \"name\": \"Time\"}, {\"dtype\": \"str\", \"name\": \"PdDistrict\"}, {\"dtype\": \"str\", \"name\": \"Resolution\"}, {\"dtype\": \"str\", \"name\": \"Address\"}, {\"dtype\": \"float\", \"name\": \"X\"}, {\"dtype\": \"float\", \"name\": \"Y\"}, {\"dtype\": \"str\", \"name\": \"Location\"}, {\"dtype\": \"int\", \"name\": \"PdId\"}, {\"dtype\": \"int\", \"name\": \"Hour\"}, {\"dtype\": \"str\", \"name\": \"TimeInt\"}]}, e);\n",
       "                });\n",
       "            })();\n",
       "        "
      ]
     },
     "metadata": {},
     "output_type": "display_data"
    }
   ],
   "source": [
    "sf_robery = sf[sf['Category'] == 'ROBBERY']\n",
    "sf_robery.show(view='Bar Chart', x='TimeInt')"
   ]
  },
  {
   "cell_type": "markdown",
   "metadata": {},
   "source": [
    "## We observe that robbery is commited at night as expected. We conclude now, with the following points-\n",
    "* We plotted a graph with frequency of crimes per hour and observed that it follows normal distribution about 5PM or 6PM\n",
    "* We observed that most of the crimes are commited in the evening (4PM - 8PM) and among those crimes theft is commited the most\n",
    "* Finally, we saw that robberies are commited at night the most"
   ]
  }
 ],
 "metadata": {
  "kernelspec": {
   "display_name": "Python 2",
   "language": "python",
   "name": "python2"
  },
  "language_info": {
   "codemirror_mode": {
    "name": "ipython",
    "version": 2
   },
   "file_extension": ".py",
   "mimetype": "text/x-python",
   "name": "python",
   "nbconvert_exporter": "python",
   "pygments_lexer": "ipython2",
   "version": "2.7.10"
  }
 },
 "nbformat": 4,
 "nbformat_minor": 0
}
